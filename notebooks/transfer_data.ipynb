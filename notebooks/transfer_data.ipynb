{
 "cells": [
  {
   "cell_type": "code",
   "execution_count": 1,
   "metadata": {},
   "outputs": [],
   "source": [
    "from es.utils.utils import get_project_root\n",
    "import os\n",
    "\n",
    "# delete es.db\n",
    "os.remove(os.path.join(get_project_root(), 'es.db'))"
   ]
  },
  {
   "cell_type": "code",
   "execution_count": 2,
   "metadata": {},
   "outputs": [],
   "source": [
    "import pandas as pd\n",
    "from es.utils import database_old\n",
    "from es.utils import database"
   ]
  },
  {
   "cell_type": "code",
   "execution_count": 3,
   "metadata": {},
   "outputs": [],
   "source": [
    "session_old = database_old.Session()\n",
    "session = database.Session()"
   ]
  },
  {
   "cell_type": "markdown",
   "metadata": {},
   "source": [
    "## Customers"
   ]
  },
  {
   "cell_type": "markdown",
   "metadata": {},
   "source": [
    "id = Column(Integer, primary_key=True, autoincrement=True)<br>\n",
    "company_name = Column(String, nullable=True)<br>\n",
    "prename = Column(String, nullable=True)<br>\n",
    "surname = Column(String, nullable=True)<br>\n",
    "street = Column(String, nullable=False)<br>\n",
    "postal_code = Column(String, nullable=False)<br>\n",
    "city = Column(String, nullable=False)<br>\n",
    "email = Column(String, nullable=True)<br>\n",
    "phone = Column(String, nullable=True)<br>"
   ]
  },
  {
   "cell_type": "markdown",
   "metadata": {},
   "source": [
    "KundenNummer: Mapped[int] = mapped_column(\n",
    "    Integer, Identity(start=1, increment=1), primary_key=True\n",
    ")<br>\n",
    "Nachname: Mapped[Optional[str]] = mapped_column(Unicode(255))<br>\n",
    "Vorname: Mapped[Optional[str]] = mapped_column(Unicode(255))<br>\n",
    "Straße: Mapped[Optional[str]] = mapped_column(Unicode(255))<br>\n",
    "PLZ: Mapped[Optional[str]] = mapped_column(Unicode(255))<br>\n",
    "Ort: Mapped[Optional[str]] = mapped_column(Unicode(255))<br>\n",
    "Land: Mapped[Optional[str]] = mapped_column(Unicode(255))<br>\n",
    "Firmenname: Mapped[Optional[str]] = mapped_column(Unicode(255))<br>"
   ]
  },
  {
   "cell_type": "code",
   "execution_count": 4,
   "metadata": {},
   "outputs": [],
   "source": [
    "old_customers = session_old.query(database_old.KundenÜbersicht).all()"
   ]
  },
  {
   "cell_type": "code",
   "execution_count": 5,
   "metadata": {},
   "outputs": [],
   "source": [
    "for customer in old_customers:\n",
    "    new_customer = database.Customer(\n",
    "        id=customer.KundenNummer,\n",
    "        company_name=customer.Firmenname,\n",
    "        prename=customer.Vorname,\n",
    "        surname=customer.Nachname,\n",
    "        street=customer.Straße,\n",
    "        postal_code=customer.PLZ,\n",
    "        city=customer.Ort,\n",
    "        country=customer.Land\n",
    "    )\n",
    "    session.add(new_customer)\n",
    "    session.commit()\n",
    "\n",
    "session.close()"
   ]
  },
  {
   "cell_type": "markdown",
   "metadata": {},
   "source": [
    "## Shipping"
   ]
  },
  {
   "cell_type": "markdown",
   "metadata": {},
   "source": [
    "id = Column(Integer, primary_key=True, autoincrement=True)<br>\n",
    "name = Column(String, nullable=False)<br>\n",
    "price = Column(Float, nullable=False)<br>\n",
    "weight_up_to = Column(Float, nullable=True)<br>\n",
    "country_class = Column(String, nullable=True)<br>\n",
    "dimension_1 = Column(Float, nullable=True)<br>\n",
    "dimension_2 = Column(Float, nullable=True)<br>\n",
    "dimension_3 = Column(Float, nullable=True)<br>"
   ]
  },
  {
   "cell_type": "markdown",
   "metadata": {},
   "source": [
    "Column(\"Versandart\", Unicode),<br>\n",
    "Column(\"Kosten\", MONEY),<br>\n",
    "Column(\"VersichertBis\", MONEY),<br>\n",
    "Column(\"Ländergruppe\", Integer),<br>\n",
    "Column(\"GewichtBis\", Float(53)),<br>\n",
    "Column(\"EnglischerName\", Unicode),<br>\n",
    "Column(\"Länge1\", Float(53)),<br>\n",
    "Column(\"Länge2\", Float(53)),<br>\n",
    "Column(\"Länge3\", Float(53)),<br>"
   ]
  },
  {
   "cell_type": "code",
   "execution_count": 6,
   "metadata": {},
   "outputs": [],
   "source": [
    "session = database.Session()"
   ]
  },
  {
   "cell_type": "code",
   "execution_count": 7,
   "metadata": {},
   "outputs": [],
   "source": [
    "old_shippings = session_old.query(database_old.t_Versand).all()"
   ]
  },
  {
   "cell_type": "code",
   "execution_count": 8,
   "metadata": {},
   "outputs": [],
   "source": [
    "for ship in old_shippings:\n",
    "    new_ship = database.Shipping(\n",
    "        name=ship.Versandart,\n",
    "        name_english=ship.EnglischerName,\n",
    "        insured=ship.VersichertBis,\n",
    "        price=ship.Kosten,\n",
    "        weight_up_to=ship.GewichtBis,\n",
    "        country_class=ship.Ländergruppe,\n",
    "        dimension_1=ship.Länge1,\n",
    "        dimension_2=ship.Länge2,\n",
    "        dimension_3=ship.Länge3,\n",
    "    )\n",
    "    session.add(new_ship)\n",
    "    session.commit()\n",
    "\n",
    "session.close()"
   ]
  },
  {
   "cell_type": "markdown",
   "metadata": {},
   "source": [
    "## Invoice"
   ]
  },
  {
   "cell_type": "markdown",
   "metadata": {},
   "source": [
    "id = Column(String, primary_key=True)<br>\n",
    "customer_id = Column(Integer, ForeignKey('customers.id'))<br>\n",
    "price = Column(Float, nullable=False)<br>\n",
    "cash = Column(Boolean, nullable=False)<br>\n",
    "invoice_date = Column(DateTime(timezone=True), nullable=False)<br>\n",
    "payment_date = Column(DateTime(timezone=True), nullable=True)<br>\n",
    "shipping_id = Column(Integer, ForeignKey('shipping.id'))<br>"
   ]
  },
  {
   "cell_type": "markdown",
   "metadata": {},
   "source": [
    "Rechnungsnummer: Mapped[str] = mapped_column(Unicode(255), primary_key=True)<br>\n",
    "Steuer: Mapped[int] = mapped_column(Integer, server_default=text(\"((0))\"))<br>\n",
    "Datum: Mapped[Optional[datetime.datetime]] = mapped_column(DATETIME2)<br>\n",
    "KundenNummer: Mapped[Optional[int]] = mapped_column(\n",
    "    Integer, server_default=text(\"((0))\")\n",
    ")<br>\n",
    "Betrag: Mapped[Optional[Any]] = mapped_column(MONEY, server_default=text(\"((0))\"))<br>\n",
    "Versandart: Mapped[Optional[str]] = mapped_column(Unicode(255))<br>\n",
    "Versandkosten: Mapped[Optional[Any]] = mapped_column(MONEY)<br>\n",
    "Kasse: Mapped[Optional[bool]] = mapped_column(Boolean)<br>\n",
    "Zahlungsdatum: Mapped[Optional[datetime.datetime]] = mapped_column(DATETIME2)<br>"
   ]
  },
  {
   "cell_type": "code",
   "execution_count": 9,
   "metadata": {},
   "outputs": [],
   "source": [
    "session = database.Session()"
   ]
  },
  {
   "cell_type": "code",
   "execution_count": 10,
   "metadata": {},
   "outputs": [],
   "source": [
    "invoices_old = session_old.query(database_old.RechnungKunde).all()"
   ]
  },
  {
   "cell_type": "code",
   "execution_count": 11,
   "metadata": {},
   "outputs": [],
   "source": [
    "for inv in invoices_old:\n",
    "    inv_new = database.Invoice(\n",
    "        id=inv.Rechnungsnummer,\n",
    "        customer_id=inv.KundenNummer,\n",
    "        price=inv.Betrag,\n",
    "        cash=inv.Kasse,\n",
    "        invoice_date=inv.Datum,\n",
    "        payment_date=inv.Zahlungsdatum,\n",
    "        shipping_id=inv.Versandart,\n",
    "        shipping_price=inv.Versandkosten\n",
    "    )\n",
    "    session.add(inv_new)\n",
    "    session.commit()\n",
    "\n",
    "session.close()"
   ]
  },
  {
   "cell_type": "code",
   "execution_count": null,
   "metadata": {},
   "outputs": [],
   "source": []
  }
 ],
 "metadata": {
  "kernelspec": {
   "display_name": "es-c-vgxSR2-py3.8",
   "language": "python",
   "name": "python3"
  },
  "language_info": {
   "codemirror_mode": {
    "name": "ipython",
    "version": 3
   },
   "file_extension": ".py",
   "mimetype": "text/x-python",
   "name": "python",
   "nbconvert_exporter": "python",
   "pygments_lexer": "ipython3",
   "version": "3.8.0"
  },
  "orig_nbformat": 4
 },
 "nbformat": 4,
 "nbformat_minor": 2
}
